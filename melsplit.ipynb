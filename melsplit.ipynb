{
 "cells": [
  {
   "cell_type": "code",
   "execution_count": 1,
   "metadata": {},
   "outputs": [
    {
     "ename": "SyntaxError",
     "evalue": "invalid syntax (3710893266.py, line 39)",
     "output_type": "error",
     "traceback": [
      "\u001b[0;36m  File \u001b[0;32m\"/tmp/ipykernel_5614/3710893266.py\"\u001b[0;36m, line \u001b[0;32m39\u001b[0m\n\u001b[0;31m    input_file = '/home/marek/Desktop/code/melgan-neurips/data/raw/014 'The Veiled Monolith' _ 1 Hour Ambience.wav'\u001b[0m\n\u001b[0m                                                                        ^\u001b[0m\n\u001b[0;31mSyntaxError\u001b[0m\u001b[0;31m:\u001b[0m invalid syntax\n"
     ]
    }
   ],
   "source": [
    "import wave\n",
    "import os\n",
    "import sys\n",
    "from dotenv import load_dotenv\n",
    "\n",
    "# Load environment variables from .env file\n",
    "load_dotenv()\n",
    "\n",
    "def split_wav_file(input_file, output_dir, num_chunks=20, target_framerate=44100):\n",
    "    # Ensure the output directory exists\n",
    "    os.makedirs(output_dir, exist_ok=True)\n",
    "    \n",
    "    # Open the input WAV file\n",
    "    with wave.open(input_file, 'rb') as wav:\n",
    "        # Get properties of the input file\n",
    "        n_channels = wav.getnchannels()\n",
    "        sampwidth = wav.getsampwidth()\n",
    "        framerate = wav.getframerate()\n",
    "        n_frames = wav.getnframes()\n",
    "        \n",
    "        if framerate != target_framerate:\n",
    "            raise ValueError(f\"Input file sample rate is {framerate} Hz, but expected {target_framerate} Hz.\")\n",
    "        \n",
    "        # Calculate the number of frames per chunk\n",
    "        frames_per_chunk = n_frames // num_chunks\n",
    "        \n",
    "        # Read all frames from the input file\n",
    "        frames = wav.readframes(n_frames)\n",
    "        \n",
    "        # Split and write chunks\n",
    "        for i in range(num_chunks):\n",
    "            chunk_frames = frames[i * frames_per_chunk * sampwidth * n_channels : (i + 1) * frames_per_chunk * sampwidth * n_channels]\n",
    "            output_file = os.path.join(output_dir, f'chunk_{i+1}.wav')\n",
    "            \n",
    "            with wave.open(output_file, 'wb') as chunk_wav:\n",
    "                chunk_wav.setnchannels(n_channels)\n",
    "                chunk_wav.setsampwidth(sampwidth)\n",
    "                chunk_wav.setframerate(target_framerate)\n",
    "                chunk_wav.writeframes(chunk_frames)\n",
    "                \n",
    "            print(f'Created {output_file}')\n",
    "\n",
    "def process_directory(input_dir, output_dir, num_chunks=20, target_framerate=44100):\n",
    "    # Ensure the output directory exists\n",
    "    os.makedirs(output_dir, exist_ok=True)\n",
    "\n",
    "    # Iterate over all files in the input directory\n",
    "    for filename in os.listdir(input_dir):\n",
    "        if filename.endswith(\".wav\"):\n",
    "            input_file = os.path.join(input_dir, filename)\n",
    "            split_wav_file(input_file, output_dir, num_chunks, target_framerate)\n",
    "\n",
    "if __name__ == \"__main__\":\n",
    "    input_dir = os.getenv('INPUT_DIR')\n",
    "    output_dir = os.getenv('OUTPUT_DIR', '/home/marek/Desktop/code/melgan-neurips/data/wavs/')\n",
    "    \n",
    "    if not input_dir:\n",
    "        print(\"Please set the INPUT_DIR environment variable.\")\n",
    "        sys.exit(1)\n",
    "    \n",
    "    process_directory(input_dir, output_dir)\n"
   ]
  }
 ],
 "metadata": {
  "kernelspec": {
   "display_name": "Python 3.10.12 64-bit",
   "language": "python",
   "name": "python3"
  },
  "language_info": {
   "codemirror_mode": {
    "name": "ipython",
    "version": 3
   },
   "file_extension": ".py",
   "mimetype": "text/x-python",
   "name": "python",
   "nbconvert_exporter": "python",
   "pygments_lexer": "ipython3",
   "version": "3.10.12"
  },
  "orig_nbformat": 4,
  "vscode": {
   "interpreter": {
    "hash": "e7370f93d1d0cde622a1f8e1c04877d8463912d04d973331ad4851f04de6915a"
   }
  }
 },
 "nbformat": 4,
 "nbformat_minor": 2
}
